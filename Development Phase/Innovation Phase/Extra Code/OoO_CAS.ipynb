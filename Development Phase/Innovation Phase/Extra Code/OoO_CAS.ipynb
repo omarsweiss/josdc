{
 "cells": [
  {
   "cell_type": "code",
   "execution_count": 1,
   "metadata": {},
   "outputs": [],
   "source": [
    "\n",
    "class Instruction:\n",
    "    def __init__(self, instruction):\n",
    "        self.instructionVal = bin(instruction)\n",
    "        self.opcode = instruction >> 26 & 0b111111\n",
    "        self.rs = instruction >> 21 & 0b11111\n",
    "        self.rt = instruction >> 16 & 0b11111\n",
    "        self.rd = instruction >> 11 & 0b11111\n",
    "        self.shamt = instruction >> 6 & 0b11111\n",
    "        self.funct = instruction & 0b111111\n",
    "        self.imm = instruction & 0xFFFF"
   ]
  },
  {
   "cell_type": "code",
   "execution_count": 7,
   "metadata": {},
   "outputs": [],
   "source": [
    "opcodes = {\n",
    "    0x0 : 'rtype', 0x8: 'addi', 0xd :'ori', 0xe: 'xori', 0xc:'andi', 0xa:'slti',\n",
    "    0x23: 'lw', 0x2b : 'sw', 0x4:'beq', 0x2:'j', 0x3 : 'jal', 0x5:'bne'\n",
    "      \n",
    "}\n",
    "notWrites = [0x2b, 0x4, 0x2, 0x5]\n",
    "rtypes = {\n",
    "    0x20: 'add', 0x22:'sub', 0x24:'and', 0x25: 'or', 0x2a:'slt', 0x26: 'xor', \n",
    "    0x27:'nor', 0x0:'sll', 0x2:'srl', 0x8:'jr'\n",
    "    \n",
    "}\n",
    "def signed(data):\n",
    "        if data & 0x8000:\n",
    "            return data - (1 << 16)  \n",
    "        else: return data"
   ]
  },
  {
   "cell_type": "code",
   "execution_count": null,
   "metadata": {},
   "outputs": [],
   "source": [
    "class ROB:\n",
    "    def __init__(self, register, data):\n",
    "        self.done = 0\n",
    "        self.data = data\n",
    "        self.register = register\n"
   ]
  },
  {
   "cell_type": "code",
   "execution_count": 14,
   "metadata": {},
   "outputs": [],
   "source": [
    "class ProcessorState:\n",
    "    def __init__(self):\n",
    "        self.cycle = 0\n",
    "        self.registers = [0] *32\n",
    "        self.reservationStations = {# the RS is a dictionary with the key being the reservation station number and the value being an instance\n",
    "        }\n",
    "        self.ROB = {}#the ROB is a dictionary where the index is the key and the value is an ROB class instance\n",
    "        self.RAT = {}#RAT simply has two possible values, if 0, then the key indexes the RF. if a value, the value indexes the ROB\n",
    "        self.units = {#simulate execution units. for example, if we want to have 2 ALUS, we just append two instructions in the ALU array. And then then instructions are handled\n",
    "            \"ALU\":[],\n",
    "            \"Load/Store\": []\n",
    "        }\n",
    "        self.memory = [0] * 1024"
   ]
  },
  {
   "cell_type": "code",
   "execution_count": 9,
   "metadata": {},
   "outputs": [],
   "source": [
    "class pipelineRegister:\n",
    "    def __init__(self):\n",
    "        self.instruction = 0\n",
    "        self.instructionVal = 0\n",
    "        self.data = 0 # any data, depending on the stage. signals are interpreted directly w/o a CU so no need for multiple signals \n",
    "        self.done = 0 #to ensure sequential execution between the stages\n",
    "        self.flush = 0#to flush if needed \n",
    "        self.thisPC = 0 #the pc of THIS instruction\n",
    "        self.nextPC = 0 #the pc of the NEXT instruction"
   ]
  },
  {
   "cell_type": "code",
   "execution_count": 13,
   "metadata": {},
   "outputs": [],
   "source": [
    "class RS:\n",
    "    def __init__(self, op1, op2):\n",
    "        self.op1 = op1\n",
    "        self.op2 = op2\n",
    "        self.ready = 0"
   ]
  },
  {
   "cell_type": "code",
   "execution_count": 11,
   "metadata": {},
   "outputs": [],
   "source": [
    "instructions = []\n",
    "with open(\"imem.txt\", 'r') as inst:\n",
    "    for line in inst:\n",
    "        parts = line.split(\":\")\n",
    "        if len(parts)>1:\n",
    "            instructions.append(int(parts[1].strip().rstrip(\";\"),2))"
   ]
  },
  {
   "cell_type": "code",
   "execution_count": 12,
   "metadata": {},
   "outputs": [],
   "source": [
    "state = ProcessorState()\n",
    "def fetch(state, instructions, IF_ID):\n",
    "    if IF_ID.done:\n",
    "        return\n",
    "    elif state.ifidFlush:\n",
    "        IF_ID.instruction = Instruction(0)\n",
    "        IF_ID.instructionVal = 0\n",
    "        inst = Instruction(0)\n",
    "    else:\n",
    "        if state.pc < len(instructions):\n",
    "            inst = Instruction(instructions[state.pc])\n",
    "        else: inst = Instruction(0)\n",
    "        IF_ID.instruction = inst\n",
    "        IF_ID.instructionVal = inst.instructionVal\n",
    "        IF_ID.pcp1 = state.pc +1\n",
    "        if opcodes[inst.opcode] == 'beq' or opcodes[inst.opcode] =='bne':\n",
    "            state.pc = state.pc +1+ signed(inst.imm )& 0b1111111111\n",
    "        elif opcodes[inst.opcode] == 'j' or opcodes[inst.opcode] =='jal':\n",
    "            state.pc = inst.imm &0b1111111111\n",
    "        elif opcodes[inst.opcode] == 'rtype' and rtypes[inst.funct] == 'jr':\n",
    "            state.pc = state.registers[inst.rs] & 0b1111111111\n",
    "        else: \n",
    "             state.pc += 1\n",
    "    IF_ID.pc = state.pc\n",
    "    IF_ID.done = 1\n",
    "        "
   ]
  },
  {
   "cell_type": "code",
   "execution_count": null,
   "metadata": {},
   "outputs": [],
   "source": []
  }
 ],
 "metadata": {
  "kernelspec": {
   "display_name": "Python 3",
   "language": "python",
   "name": "python3"
  },
  "language_info": {
   "codemirror_mode": {
    "name": "ipython",
    "version": 3
   },
   "file_extension": ".py",
   "mimetype": "text/x-python",
   "name": "python",
   "nbconvert_exporter": "python",
   "pygments_lexer": "ipython3",
   "version": "3.13.1"
  }
 },
 "nbformat": 4,
 "nbformat_minor": 2
}
