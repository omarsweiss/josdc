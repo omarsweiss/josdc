{
 "cells": [
  {
   "cell_type": "code",
   "execution_count": 2,
   "metadata": {},
   "outputs": [],
   "source": [
    "import collections\n",
    "import random"
   ]
  },
  {
   "cell_type": "code",
   "execution_count": null,
   "metadata": {},
   "outputs": [],
   "source": [
    "PIPELINE_WIDTH = 2\n",
    "NUM_RESERVATION_STATIONS = 4\n",
    "NUM_ROB_ENTRIES = 8\n",
    "NUM_REGISTERS = 32\n",
    "INSTRUCTION_QUEUE_SIZE = 128\n",
    "opcodes = {\n",
    "    0x0 : 'rtype', 0x8: 'addi', 0xd :'ori', 0xe: 'xori', 0xc:'andi', 0xa:'slti',\n",
    "    0x23: 'lw', 0x2b : 'sw', 0x4:'beq', 0x2:'j', 0x3 : 'jal', 0x5:'bne'\n",
    "      \n",
    "}\n",
    "notWrites = [0x2b, 0x4, 0x2, 0x5]\n",
    "rtypes = {\n",
    "    0x20: 'add', 0x22:'sub', 0x24:'and', 0x25: 'or', 0x2a:'slt', 0x26: 'xor', \n",
    "    0x27:'nor', 0x0:'sll', 0x2:'srl', 0x8:'jr'\n",
    "    \n",
    "}\n",
    "def signed(data):\n",
    "        if data & 0x8000:\n",
    "            return data - (1 << 16)  \n",
    "        else: return data"
   ]
  },
  {
   "cell_type": "code",
   "execution_count": null,
   "metadata": {},
   "outputs": [],
   "source": [
    "instructions = []\n",
    "with open(\"imem.txt\", 'r') as inst:\n",
    "    for line in inst:\n",
    "        parts = line.split(\":\")\n",
    "        if len(parts)>1:\n",
    "            instructions.append(int(parts[1].strip().rstrip(\";\"),2))\n",
    "    "
   ]
  },
  {
   "cell_type": "code",
   "execution_count": 33,
   "metadata": {},
   "outputs": [],
   "source": [
    "class Instruction:\n",
    "    def __init__(self, instruction):\n",
    "        self.instructionVal = bin(instruction)\n",
    "        self.opcode = instruction >> 26 & 0b111111\n",
    "        self.rs = instruction >> 21 & 0b11111\n",
    "        self.rt = instruction >> 16 & 0b11111\n",
    "        self.rd = instruction >> 11 & 0b11111\n",
    "        validRt = opcodes[self.opcode] == 'rtype' or opcodes[self.opcode] =='bne' or opcodes[self.opcode] == 'beq'\n",
    "        self.destreg = inst.rd if validRt else inst.rt\n",
    "        self.shamt = instruction >> 6 & 0b11111\n",
    "        self.funct = instruction & 0b111111\n",
    "        self.imm = instruction & 0xFFFF"
   ]
  },
  {
   "cell_type": "code",
   "execution_count": 12,
   "metadata": {},
   "outputs": [],
   "source": [
    "class ROBEntry:\n",
    "    def __init__(self, instruction):\n",
    "        self.instruction = instruction\n",
    "        self.value = None\n",
    "        self.ready = False\n",
    "        self.destination = instruction.dest"
   ]
  },
  {
   "cell_type": "code",
   "execution_count": 17,
   "metadata": {},
   "outputs": [],
   "source": [
    "class ReservationStation:\n",
    "    def __init__(self):\n",
    "        self.opcode = None\n",
    "        self.tag_dest = None\n",
    "        self.tag_src1 = None\n",
    "        self.tag_src2 = None\n",
    "        self.value_src1 = None\n",
    "        self.value_src2 = None\n",
    "        self.busy = False"
   ]
  },
  {
   "cell_type": "code",
   "execution_count": 26,
   "metadata": {},
   "outputs": [],
   "source": [
    "class PipelineRegister:\n",
    "    def __init__(self):\n",
    "        self.flush = 0\n",
    "        self.instruction = 0\n",
    "        self.instructionVal = 0\n",
    "        self.prediction = 0\n",
    "        self.stateIndex = 0\n",
    "        self.last = 0\n",
    "        self.data = 0 # any data, depending on the stage. signals are interpreted directly w/o a CU so no need for multiple signals \n",
    "        self.done = 0\n",
    "        self.flush = 0\n",
    "        self.pc = 0"
   ]
  },
  {
   "cell_type": "code",
   "execution_count": 11,
   "metadata": {},
   "outputs": [],
   "source": [
    "class Register:\n",
    "    def __init__(self):\n",
    "        self.value = 0\n",
    "        self.tag = None  # Tag indicates which ROB entry is producing this value"
   ]
  },
  {
   "cell_type": "code",
   "execution_count": 22,
   "metadata": {},
   "outputs": [],
   "source": [
    "instruction_memory = []\n",
    "registers = [Register() for _ in range(NUM_REGISTERS)]\n",
    "rob = collections.deque(maxlen=NUM_ROB_ENTRIES)\n",
    "reservation_stations = [ReservationStation() for _ in range(NUM_RESERVATION_STATIONS)]\n",
    "\n",
    "\n",
    "class ProcessorState:\n",
    "    def __init__(self):\n",
    "        self.cycle = 0\n",
    "        self.ifidFlush = 0\n",
    "        self.idexFlush = 0\n",
    "        self.branchflushcount = 0\n",
    "        self.branchInstruction  = 0\n",
    "        self.histReg = 0\n",
    "        self.ifidStall = 0\n",
    "        self.pc = 0\n",
    "        self.registers = registers = [Register() for _ in range(NUM_REGISTERS)]\n",
    "        self.instructionsQueue = []\n",
    "        self.rob = collections.deque(maxlen = NUM_ROB_ENTRIES)\n",
    "        self.reservation_stations = [ReservationStation() for _ in range(NUM_RESERVATION_STATIONS)]\n",
    "        self.memory = [0] * 1024"
   ]
  },
  {
   "cell_type": "code",
   "execution_count": 35,
   "metadata": {},
   "outputs": [],
   "source": [
    "state = ProcessorState()\n",
    "IF_ID = PipelineRegister()\n",
    "ID_DISPATCH = PipelineRegister()\n",
    "DISPATCH_ISSUE = PipelineRegister()\n",
    "state.memory[0] = 0x5\n",
    "state.memory[1] = 0x7\n",
    "state.memory[2] = 0x2\n",
    "state.memory[3] = 0xF\n",
    "state.memory[4] = 0xA\n",
    "state.memory[5] = 0x10\n",
    "state.memory[6] = 0x30\n",
    "state.memory[7] = 0x1\n",
    "state.memory[8] = 0xFF\n",
    "state.memory[9] = 0x55"
   ]
  },
  {
   "cell_type": "code",
   "execution_count": 30,
   "metadata": {},
   "outputs": [],
   "source": [
    "def fetch(state, instructions, IF_ID):\n",
    "    if IF_ID.done:\n",
    "        return\n",
    "    else:\n",
    "        insts = []\n",
    "        for i in range(PIPELINE_WIDTH):\n",
    "            if state.pc <len(instructions):\n",
    "                insts.append(Instruction(instructions[state.pc]))\n",
    "            else: \n",
    "                IF_ID.last = 1\n",
    "                inst = Instruction(0)\n",
    "            IF_ID.thisPC = state.pc\n",
    "            IF_ID.rs = inst.rs\n",
    "            IF_ID.rt = inst.rt\n",
    "            IF_ID.pcp1 = state.pc +1\n",
    "            if ((opcodes[inst.opcode] == 'beq' or opcodes[inst.opcode] =='bne' )):\n",
    "                state.pc = state.pc +1+ signed(inst.imm )& 0b1111111111\n",
    "            elif opcodes[inst.opcode] == 'j' or opcodes[inst.opcode] =='jal':\n",
    "                state.pc = inst.imm &0b1111111111\n",
    "            elif opcodes[inst.opcode] == 'rtype' and rtypes[inst.funct] == 'jr':\n",
    "                state.pc = state.registers[inst.rs] & 0b1111111111\n",
    "            else: \n",
    "                 state.pc += 1\n",
    "        IF_ID.insts = insts\n",
    "        IF_ID.nextPC = state.pc\n",
    "        IF_ID.done = 1\n",
    "        \n"
   ]
  },
  {
   "cell_type": "code",
   "execution_count": null,
   "metadata": {},
   "outputs": [],
   "source": [
    "def decode(state, IF_ID, ID_DISPATCH):\n",
    "    if not IF_ID.done:\n",
    "        return\n",
    "    else:\n",
    "        ID_DISPATCH = IF_ID #Simulate a pipeline stage\n",
    "        ID_DISPATCH.done = 1\n",
    "\n",
    "\n",
    "\n"
   ]
  },
  {
   "cell_type": "code",
   "execution_count": 40,
   "metadata": {},
   "outputs": [],
   "source": [
    "def dispatch(state, ID_DISPATCH, DISPATCH_ISSUE):\n",
    "    if not ID_DISPATCH.done:\n",
    "        return\n",
    "    else:\n",
    "        insts = ID_DISPATCH.insts\n",
    "        for i in range(PIPELINE_WIDTH):\n",
    "            inst = insts.pop(0)\n",
    "            if len(state.instructionsQueue) < INSTRUCTION_QUEUE_SIZE:\n",
    "                state.instructionsQueue.append(inst)\n",
    "        DISPATCH_ISSUE = ID_DISPATCH\n",
    "        DISPATCH_ISSUE.done = 1\n",
    "        \n",
    "            "
   ]
  },
  {
   "cell_type": "code",
   "execution_count": null,
   "metadata": {},
   "outputs": [],
   "source": [
    "def ISSUE(state, DISPATCH_ISSUE):\n",
    "    if not DISPATCH_ISSUE.done:\n",
    "        return\n"
   ]
  }
 ],
 "metadata": {
  "kernelspec": {
   "display_name": "Python 3",
   "language": "python",
   "name": "python3"
  },
  "language_info": {
   "codemirror_mode": {
    "name": "ipython",
    "version": 3
   },
   "file_extension": ".py",
   "mimetype": "text/x-python",
   "name": "python",
   "nbconvert_exporter": "python",
   "pygments_lexer": "ipython3",
   "version": "3.13.1"
  }
 },
 "nbformat": 4,
 "nbformat_minor": 2
}
