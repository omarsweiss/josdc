{
 "cells": [
  {
   "cell_type": "code",
<<<<<<< HEAD
   "execution_count": 2,
   "metadata": {},
   "outputs": [],
   "source": [
    "import collections\n",
    "import random"
=======
   "execution_count": null,
   "metadata": {},
   "outputs": [],
   "source": [
    "gsharebits = 0b11\n",
    "gsharesize = 4\n",
    "class Instruction:\n",
    "    def __init__(self, instruction):\n",
    "        self.instructionVal = bin(instruction)\n",
    "        self.opcode = instruction >> 26 & 0b111111\n",
    "        self.rs = instruction >> 21 & 0b11111\n",
    "        self.rt = instruction >> 16 & 0b11111\n",
    "        self.rd = instruction >> 11 & 0b11111\n",
    "        self.shamt = instruction >> 6 & 0b11111\n",
    "        self.funct = instruction & 0b111111\n",
    "        self.imm = instruction & 0xFFFF"
>>>>>>> cf27db0dad8f14d61d63f76996782a6300e297ec
   ]
  },
  {
   "cell_type": "code",
   "execution_count": null,
   "metadata": {},
   "outputs": [],
   "source": [
<<<<<<< HEAD
    "PIPELINE_WIDTH = 2\n",
    "NUM_RESERVATION_STATIONS = 4\n",
    "NUM_ROB_ENTRIES = 8\n",
    "NUM_REGISTERS = 32\n",
    "INSTRUCTION_QUEUE_SIZE = 128\n",
=======
    "class ROB:\n",
    "    def __init__(self, register, data):\n",
    "        self.done = 0\n",
    "        self.data = data\n",
    "        self.register = register\n"
   ]
  },
  {
   "cell_type": "code",
   "execution_count": 28,
   "metadata": {},
   "outputs": [],
   "source": [
    "class ProcessorState:\n",
    "    def __init__(self):\n",
    "        self.cycle = 0\n",
    "        self.registers = [0] *32\n",
    "        self.issuePointer = 0\n",
    "        self.commitPointer = 0\n",
    "        self.RSALU = {# the RS is a dictionary with the key being the reservation station number and the value being an instance\n",
    "        }\n",
    "        self.RSALU1 = {}\n",
    "        self.RSMEM = {}\n",
    "        self.histReg = 0\n",
    "        self.pduStates = [0b11]*gsharesize\n",
    "        self.instructionQ = [] #queues the instructions to hold them for the RS\n",
    "        self.ROB = {}#the ROB is a dictionary where the index is the key and the value is an ROB class instance\n",
    "        self.RAT = {}#RAT simply has two possible values, if 0, then the key indexes the RF. if a value, the value indexes the ROB\n",
    "        self.units = {#simulate execution units. for example, if we want to have 2 ALUS, we just append two instructions in the ALU array. And then then instructions are handled\n",
    "            \"ALU\":[],\n",
    "            \"Load/Store\": []\n",
    "        }\n",
    "        self.memory = [0] * 1024"
   ]
  },
  {
   "cell_type": "code",
   "execution_count": 24,
   "metadata": {},
   "outputs": [],
   "source": [
    "class PipelineRegister:\n",
    "    def __init__(self):\n",
    "        self.flush = 0\n",
    "        self.instruction = 0\n",
    "        self.instruction1 = 0\n",
    "        self.instructionVal = 0\n",
    "        self.instructionVal1 = 0\n",
    "        self.prediction = 0\n",
    "        self.stateIndex = 0\n",
    "        self.last = 0\n",
    "        self.data = 0 # any data, depending on the stage. signals are interpreted directly w/o a CU so no need for multiple signals \n",
    "        self.done = 0\n",
    "        self.flush = 0\n",
    "        self.thisPC = 0 \n",
    "        self.nextPC = 0"
   ]
  },
  {
   "cell_type": "code",
   "execution_count": 30,
   "metadata": {},
   "outputs": [],
   "source": [
    "class RS:\n",
    "    def __init__(self):\n",
    "        self.tag1 = 0\n",
    "        self.tag2 = 0\n",
    "        self.op1 = 0 \n",
    "        self.op2 = 0\n",
    "        self.ready = 0"
   ]
  },
  {
   "cell_type": "code",
   "execution_count": null,
   "metadata": {},
   "outputs": [],
   "source": [
    "IF_ID = PipelineRegister()\n",
    "ID_ISSUE = PipelineRegister()\n",
    "ISSUE_EXECUTE = PipelineRegister()\n",
    "EX_MEM = PipelineRegister()\n",
    "MEM_WB = PipelineRegister()\n",
    "state = ProcessorState()\n",
    "state.memory[0] = 0x5\n",
    "state.memory[1] = 0x7\n",
    "state.memory[2] = 0x2\n",
    "state.memory[3] = 0xF\n",
    "state.memory[4] = 0xA\n",
    "state.memory[5] = 0x10\n",
    "state.memory[6] = 0x30\n",
    "state.memory[7] = 0x1\n",
    "state.memory[8] = 0xFF\n",
    "state.memory[9] = 0x55\n",
>>>>>>> cf27db0dad8f14d61d63f76996782a6300e297ec
    "opcodes = {\n",
    "    0x0 : 'rtype', 0x8: 'addi', 0xd :'ori', 0xe: 'xori', 0xc:'andi', 0xa:'slti',\n",
    "    0x23: 'lw', 0x2b : 'sw', 0x4:'beq', 0x2:'j', 0x3 : 'jal', 0x5:'bne'\n",
    "      \n",
    "}\n",
    "notWrites = [0x2b, 0x4, 0x2, 0x5]\n",
<<<<<<< HEAD
=======
    "arithmetic = [0x0, 0x8, 0xd, 0xe, 0xc, 0xa ]\n",
>>>>>>> cf27db0dad8f14d61d63f76996782a6300e297ec
    "rtypes = {\n",
    "    0x20: 'add', 0x22:'sub', 0x24:'and', 0x25: 'or', 0x2a:'slt', 0x26: 'xor', \n",
    "    0x27:'nor', 0x0:'sll', 0x2:'srl', 0x8:'jr'\n",
    "    \n",
    "}\n",
    "def signed(data):\n",
    "        if data & 0x8000:\n",
    "            return data - (1 << 16)  \n",
    "        else: return data"
   ]
  },
  {
   "cell_type": "code",
<<<<<<< HEAD
   "execution_count": null,
=======
   "execution_count": 21,
>>>>>>> cf27db0dad8f14d61d63f76996782a6300e297ec
   "metadata": {},
   "outputs": [],
   "source": [
    "instructions = []\n",
    "with open(\"imem.txt\", 'r') as inst:\n",
    "    for line in inst:\n",
    "        parts = line.split(\":\")\n",
    "        if len(parts)>1:\n",
<<<<<<< HEAD
    "            instructions.append(int(parts[1].strip().rstrip(\";\"),2))\n",
    "    "
   ]
  },
  {
   "cell_type": "code",
   "execution_count": 33,
   "metadata": {},
   "outputs": [],
   "source": [
    "class Instruction:\n",
    "    def __init__(self, instruction):\n",
    "        self.instructionVal = bin(instruction)\n",
    "        self.opcode = instruction >> 26 & 0b111111\n",
    "        self.rs = instruction >> 21 & 0b11111\n",
    "        self.rt = instruction >> 16 & 0b11111\n",
    "        self.rd = instruction >> 11 & 0b11111\n",
    "        validRt = opcodes[self.opcode] == 'rtype' or opcodes[self.opcode] =='bne' or opcodes[self.opcode] == 'beq'\n",
    "        self.destreg = inst.rd if validRt else inst.rt\n",
    "        self.shamt = instruction >> 6 & 0b11111\n",
    "        self.funct = instruction & 0b111111\n",
    "        self.imm = instruction & 0xFFFF"
   ]
  },
  {
   "cell_type": "code",
   "execution_count": 12,
   "metadata": {},
   "outputs": [],
   "source": [
    "class ROBEntry:\n",
    "    def __init__(self, instruction):\n",
    "        self.instruction = instruction\n",
    "        self.value = None\n",
    "        self.ready = False\n",
    "        self.destination = instruction.dest"
   ]
  },
  {
   "cell_type": "code",
   "execution_count": 17,
   "metadata": {},
   "outputs": [],
   "source": [
    "class ReservationStation:\n",
    "    def __init__(self):\n",
    "        self.opcode = None\n",
    "        self.tag_dest = None\n",
    "        self.tag_src1 = None\n",
    "        self.tag_src2 = None\n",
    "        self.value_src1 = None\n",
    "        self.value_src2 = None\n",
    "        self.busy = False"
=======
    "            instructions.append(int(parts[1].strip().rstrip(\";\"),2))"
>>>>>>> cf27db0dad8f14d61d63f76996782a6300e297ec
   ]
  },
  {
   "cell_type": "code",
   "execution_count": 26,
   "metadata": {},
   "outputs": [],
   "source": [
<<<<<<< HEAD
    "class PipelineRegister:\n",
    "    def __init__(self):\n",
    "        self.flush = 0\n",
    "        self.instruction = 0\n",
    "        self.instructionVal = 0\n",
    "        self.prediction = 0\n",
    "        self.stateIndex = 0\n",
    "        self.last = 0\n",
    "        self.data = 0 # any data, depending on the stage. signals are interpreted directly w/o a CU so no need for multiple signals \n",
    "        self.done = 0\n",
    "        self.flush = 0\n",
    "        self.pc = 0"
   ]
  },
  {
   "cell_type": "code",
   "execution_count": 11,
   "metadata": {},
   "outputs": [],
   "source": [
    "class Register:\n",
    "    def __init__(self):\n",
    "        self.value = 0\n",
    "        self.tag = None  # Tag indicates which ROB entry is producing this value"
   ]
  },
  {
   "cell_type": "code",
   "execution_count": 22,
   "metadata": {},
   "outputs": [],
   "source": [
    "instruction_memory = []\n",
    "registers = [Register() for _ in range(NUM_REGISTERS)]\n",
    "rob = collections.deque(maxlen=NUM_ROB_ENTRIES)\n",
    "reservation_stations = [ReservationStation() for _ in range(NUM_RESERVATION_STATIONS)]\n",
    "\n",
    "\n",
    "class ProcessorState:\n",
    "    def __init__(self):\n",
    "        self.cycle = 0\n",
    "        self.ifidFlush = 0\n",
    "        self.idexFlush = 0\n",
    "        self.branchflushcount = 0\n",
    "        self.branchInstruction  = 0\n",
    "        self.histReg = 0\n",
    "        self.ifidStall = 0\n",
    "        self.pc = 0\n",
    "        self.registers = registers = [Register() for _ in range(NUM_REGISTERS)]\n",
    "        self.instructionsQueue = []\n",
    "        self.rob = collections.deque(maxlen = NUM_ROB_ENTRIES)\n",
    "        self.reservation_stations = [ReservationStation() for _ in range(NUM_RESERVATION_STATIONS)]\n",
    "        self.memory = [0] * 1024"
   ]
  },
  {
   "cell_type": "code",
   "execution_count": 35,
   "metadata": {},
   "outputs": [],
   "source": [
    "state = ProcessorState()\n",
    "IF_ID = PipelineRegister()\n",
    "ID_DISPATCH = PipelineRegister()\n",
    "DISPATCH_ISSUE = PipelineRegister()\n",
    "state.memory[0] = 0x5\n",
    "state.memory[1] = 0x7\n",
    "state.memory[2] = 0x2\n",
    "state.memory[3] = 0xF\n",
    "state.memory[4] = 0xA\n",
    "state.memory[5] = 0x10\n",
    "state.memory[6] = 0x30\n",
    "state.memory[7] = 0x1\n",
    "state.memory[8] = 0xFF\n",
    "state.memory[9] = 0x55"
   ]
  },
  {
   "cell_type": "code",
   "execution_count": 30,
   "metadata": {},
   "outputs": [],
   "source": [
    "def fetch(state, instructions, IF_ID):\n",
    "    if IF_ID.done:\n",
    "        return\n",
    "    else:\n",
    "        insts = []\n",
    "        for i in range(PIPELINE_WIDTH):\n",
    "            if state.pc <len(instructions):\n",
    "                insts.append(Instruction(instructions[state.pc]))\n",
    "            else: \n",
    "                IF_ID.last = 1\n",
    "                inst = Instruction(0)\n",
    "            IF_ID.thisPC = state.pc\n",
    "            IF_ID.rs = inst.rs\n",
    "            IF_ID.rt = inst.rt\n",
    "            IF_ID.pcp1 = state.pc +1\n",
    "            if ((opcodes[inst.opcode] == 'beq' or opcodes[inst.opcode] =='bne' )):\n",
    "                state.pc = state.pc +1+ signed(inst.imm )& 0b1111111111\n",
    "            elif opcodes[inst.opcode] == 'j' or opcodes[inst.opcode] =='jal':\n",
    "                state.pc = inst.imm &0b1111111111\n",
    "            elif opcodes[inst.opcode] == 'rtype' and rtypes[inst.funct] == 'jr':\n",
    "                state.pc = state.registers[inst.rs] & 0b1111111111\n",
    "            else: \n",
    "                 state.pc += 1\n",
    "        IF_ID.insts = insts\n",
    "        IF_ID.nextPC = state.pc\n",
    "        IF_ID.done = 1\n",
    "        \n"
=======
    "def fetch(state, instructions, IF_ID):\n",
    "    IF_ID.rs = 0\n",
    "    IF_ID.rt = 0\n",
    "    IF_ID.last = 0\n",
    "    if IF_ID.done:\n",
    "        return\n",
    "    elif state.ifidFlush:\n",
    "        IF_ID.instruction = Instruction(0)\n",
    "        IF_ID.instructionVal = 0\n",
    "        inst = Instruction(0)\n",
    "    else:\n",
    "        if state.pc < len(instructions):\n",
    "            inst = Instruction(instructions[state.pc])\n",
    "        else: \n",
    "            IF_ID.last = 1\n",
    "            inst = Instruction(0)\n",
    "        IF_ID.thisPC = state.pc\n",
    "        IF_ID.instruction = inst\n",
    "        IF_ID.instructionVal = inst.instructionVal\n",
    "        if opcodes[inst.opcode] == 'j' or opcodes[inst.opcode] =='jal':\n",
    "            state.pc = inst.imm &0b1111111111\n",
    "        elif opcodes[inst.opcode] == 'rtype' and rtypes[inst.funct] == 'jr':\n",
    "            state.pc = state.registers[inst.rs] & 0b1111111111\n",
    "        else: \n",
    "             state.pc += 1\n",
    "        if state.pc < len(instructions):\n",
    "            inst1 = Instruction(instructions[state.pc])\n",
    "        else: \n",
    "            IF_ID.last = 1\n",
    "            inst1 = Instruction(0)\n",
    "        IF_ID.instruction1 = inst1\n",
    "        IF_ID.instructionVal1 = inst.instructionVal1\n",
    "    state.pc = state.pc +1\n",
    "    IF_ID.nextpc = state.pc\n",
    "    IF_ID.done = 1\n",
    "        "
>>>>>>> cf27db0dad8f14d61d63f76996782a6300e297ec
   ]
  },
  {
   "cell_type": "code",
   "execution_count": null,
   "metadata": {},
   "outputs": [],
   "source": [
<<<<<<< HEAD
    "def decode(state, IF_ID, ID_DISPATCH):\n",
    "    if not IF_ID.done:\n",
    "        return\n",
    "    else:\n",
    "        ID_DISPATCH = IF_ID #Simulate a pipeline stage\n",
    "        ID_DISPATCH.done = 1\n",
    "\n",
=======
    "def decode(state, IF_ID, ID_ISSUE):\n",
    "    #this stage does absolutely nothing in the CAS as the instructions are decoded on the go. this is only here to mimic a cycle for the decode stage(if we want to add one)\n",
    "    if not IF_ID.done: #checks if IFID is fetching another instruction or not\n",
    "        return\n",
    "    ID_ISSUE = IF_ID\n",
    "    ID_ISSUE.done = 1 #IDEX cannot decode and change its value until execute stage is done\n",
    "    IF_ID.done = 0 # IFID is now allowed to fetch another instruction\n",
    "\n",
    "\n",
    "\n",
    "    \n",
    "    "
   ]
  },
  {
   "cell_type": "code",
   "execution_count": null,
   "metadata": {},
   "outputs": [],
   "source": [
    "def issue(state, ID_ISSUE, ISSUE_EXECUTE):\n",
    "    if not ID_ISSUE.done:\n",
    "        return\n",
    "    else:\n",
    "        #This is the stage where the instructions are held in an RS if no resources are available or immediately sent to the execution if available. send to the load/store buffers.\n",
    "        inst = ID_ISSUE.inst\n",
    "        inst1 = ID_ISSUE.inst1\n",
    "        validRt1 = opcodes[inst.opcode] == 'rtype' or opcodes[inst.opcode] =='bne' or opcodes[inst.opcode] == 'beq'\n",
    "        op1 = inst.rs\n",
    "        op2= inst.rt if validRt1 else inst.imm\n",
    "        validRt1_1 = opcodes[inst1.opcode] == 'rtype' or opcodes[inst1.opcode] =='bne' or opcodes[inst1.opcode] == 'beq'\n",
    "        op1_1 = inst1.rs\n",
    "        op2_1 = inst1.rt if validRt1_1 else inst1.imm\n",
    "        if len(state.RSALU == 0):\n",
    "            robInst = ROB(inst.rd if validRT else inst.rt, 0)\n",
    "            state.ROB[state.issuePointer] = robInst\n",
    "            state.issuePointer += 1\n",
    "            rsInst = RS()\n",
    "            state.RSALU[0] = rsInst\n",
>>>>>>> cf27db0dad8f14d61d63f76996782a6300e297ec
    "\n",
    "\n"
   ]
  },
  {
   "cell_type": "code",
<<<<<<< HEAD
   "execution_count": 40,
   "metadata": {},
   "outputs": [],
   "source": [
    "def dispatch(state, ID_DISPATCH, DISPATCH_ISSUE):\n",
    "    if not ID_DISPATCH.done:\n",
    "        return\n",
    "    else:\n",
    "        insts = ID_DISPATCH.insts\n",
    "        for i in range(PIPELINE_WIDTH):\n",
    "            inst = insts.pop(0)\n",
    "            if len(state.instructionsQueue) < INSTRUCTION_QUEUE_SIZE:\n",
    "                state.instructionsQueue.append(inst)\n",
    "        DISPATCH_ISSUE = ID_DISPATCH\n",
    "        DISPATCH_ISSUE.done = 1\n",
    "        \n",
    "            "
   ]
  },
  {
   "cell_type": "code",
   "execution_count": null,
   "metadata": {},
   "outputs": [],
   "source": [
    "def ISSUE(state, DISPATCH_ISSUE):\n",
    "    if not DISPATCH_ISSUE.done:\n",
    "        return\n"
   ]
=======
   "execution_count": null,
   "metadata": {},
   "outputs": [],
   "source": []
>>>>>>> cf27db0dad8f14d61d63f76996782a6300e297ec
  }
 ],
 "metadata": {
  "kernelspec": {
   "display_name": "Python 3",
   "language": "python",
   "name": "python3"
  },
  "language_info": {
   "codemirror_mode": {
    "name": "ipython",
    "version": 3
   },
   "file_extension": ".py",
   "mimetype": "text/x-python",
   "name": "python",
   "nbconvert_exporter": "python",
   "pygments_lexer": "ipython3",
   "version": "3.13.1"
  }
 },
 "nbformat": 4,
 "nbformat_minor": 2
}
